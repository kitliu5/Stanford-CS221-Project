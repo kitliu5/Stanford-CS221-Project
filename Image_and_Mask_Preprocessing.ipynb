{
 "cells": [
  {
   "cell_type": "code",
   "execution_count": 4,
   "metadata": {},
   "outputs": [],
   "source": [
    "import numpy as np\n",
    "import matplotlib.pyplot as plt\n",
    "import pickle\n",
    "import time\n",
    "import pandas as pd\n",
    "\n",
    "from PIL import Image\n",
    "import glob\n",
    "import scipy.stats as stats\n",
    "import cv2\n",
    "\n",
    "from skimage.filters import sobel\n",
    "from skimage import segmentation"
   ]
  },
  {
   "cell_type": "code",
   "execution_count": 5,
   "metadata": {},
   "outputs": [],
   "source": [
    "def convert_and_save_binary_mask(filename):\n",
    "    '''filename is a mask that has 3 identical channels. The function convert it to single channel,\n",
    "       and then convert it to a binary mask by watershed transform. '''\n",
    "    mask=Image.open(filename).convert('L')\n",
    "    mask_np = np.array(mask)\n",
    "    \n",
    "    elevation_map = sobel(mask_np)\n",
    "    markers = np.zeros_like(mask_np)\n",
    "    markers[mask_np < 76.5] = 1\n",
    "    markers[mask_np > 185] = 2\n",
    "    segmentation_mask = segmentation.watershed(elevation_map, markers)\n",
    "    \n",
    "    binary_mask = (segmentation_mask == 2)*255\n",
    "    cv2.imwrite('data/masks_0_255/'+filename[11:], np.uint8(binary_mask))"
   ]
  },
  {
   "cell_type": "code",
   "execution_count": 6,
   "metadata": {},
   "outputs": [],
   "source": [
    "mask_list = []\n",
    "for filename in glob.glob('data/masks/*.jpg'):\n",
    "    convert_and_save_binary_mask(filename)"
   ]
  },
  {
   "cell_type": "code",
   "execution_count": 44,
   "metadata": {},
   "outputs": [],
   "source": [
    "import numpy as np # linear algebra\n",
    "import os\n",
    "import skimage, os\n",
    "from skimage.morphology import binary_erosion, binary_closing, disk\n",
    "from skimage.filters import roberts, sobel\n",
    "from skimage.measure import label,regionprops\n",
    "from skimage.segmentation import clear_border\n",
    "from scipy import ndimage as ndi\n",
    "\n",
    "def get_segmented_lungs(im, plot=False):\n",
    "    \n",
    "    '''\n",
    "    This funtion segments the lungs from the given 2D slice.\n",
    "    '''\n",
    "    if plot == True:\n",
    "        f, plots = plt.subplots(8, 1, figsize=(5, 40))\n",
    "    '''\n",
    "    Step 1: Convert into a binary image. \n",
    "    '''\n",
    "    binary = im < 151\n",
    "    if plot == True:\n",
    "        plots[0].axis('off')\n",
    "        plots[0].imshow(binary, cmap=plt.cm.bone) \n",
    "    '''\n",
    "    Step 2: Remove the blobs connected to the border of the image.\n",
    "    '''\n",
    "    cleared = clear_border(binary)\n",
    "    if plot == True:\n",
    "        plots[1].axis('off')\n",
    "        plots[1].imshow(cleared, cmap=plt.cm.bone) \n",
    "    '''\n",
    "    Step 3: Label the image.\n",
    "    '''\n",
    "    label_image = label(cleared)\n",
    "    if plot == True:\n",
    "        plots[2].axis('off')\n",
    "        plots[2].imshow(label_image, cmap=plt.cm.bone) \n",
    "    '''\n",
    "    Step 4: Keep the labels with 2 largest areas.\n",
    "    '''\n",
    "    areas = [r.area for r in regionprops(label_image)]\n",
    "    areas.sort()\n",
    "    if len(areas) > 2:\n",
    "        for region in regionprops(label_image):\n",
    "            if region.area < areas[-2]:\n",
    "                for coordinates in region.coords:                \n",
    "                       label_image[coordinates[0], coordinates[1]] = 0\n",
    "    binary = label_image > 0\n",
    "    if plot == True:\n",
    "        plots[3].axis('off')\n",
    "        plots[3].imshow(binary, cmap=plt.cm.bone) \n",
    "    '''\n",
    "    Step 5: Erosion operation with a disk of radius 2. This operation is \n",
    "    seperate the lung nodules attached to the blood vessels.\n",
    "    '''\n",
    "    selem = disk(2)\n",
    "    binary = binary_erosion(binary, selem)\n",
    "    if plot == True:\n",
    "        plots[4].axis('off')\n",
    "        plots[4].imshow(binary, cmap=plt.cm.bone) \n",
    "    '''\n",
    "    Step 6: Closure operation with a disk of radius 10. This operation is \n",
    "    to keep nodules attached to the lung wall.\n",
    "    '''\n",
    "    selem = disk(10)\n",
    "    binary = binary_closing(binary, selem)\n",
    "    if plot == True:\n",
    "        plots[5].axis('off')\n",
    "        plots[5].imshow(binary, cmap=plt.cm.bone) \n",
    "    '''\n",
    "    Step 7: Fill in the small holes inside the binary mask of lungs.\n",
    "    '''\n",
    "    edges = roberts(binary)\n",
    "    binary = ndi.binary_fill_holes(edges)\n",
    "    if plot == True:\n",
    "        plots[6].axis('off')\n",
    "        plots[6].imshow(binary, cmap=plt.cm.bone) \n",
    "    '''\n",
    "    Step 8: Superimpose the binary mask on the input image.\n",
    "    '''\n",
    "    get_high_vals = binary == 0\n",
    "    im[get_high_vals] = 0\n",
    "    if plot == True:\n",
    "        plots[7].axis('off')\n",
    "        plots[7].imshow(im, cmap=plt.cm.bone) \n",
    "        \n",
    "    return im"
   ]
  },
  {
   "cell_type": "code",
   "execution_count": 52,
   "metadata": {},
   "outputs": [],
   "source": [
    "def preprocess_and_save_img(filename):\n",
    "    img_np = np.array(Image.open(filename))[:,:,0]\n",
    "    preprocessed_img = get_segmented_lungs(img_np)\n",
    "    cv2.imwrite('data/preprocessed_img/'+filename[20:], preprocessed_img)"
   ]
  },
  {
   "cell_type": "code",
   "execution_count": 59,
   "metadata": {},
   "outputs": [],
   "source": [
    "for filename in glob.glob('data/imgs-3-channel/*.jpg'):\n",
    "    preprocess_and_save_img(filename)"
   ]
  },
  {
   "cell_type": "markdown",
   "metadata": {},
   "source": [
    "### 1. seems like this preprocessing only works with a subset of the CT scans that are grayish\n",
    "### 2. need filtering out those preprocessed images and get their corresponding masks\n",
    "### 3. CT scans with darker background should be preprocessed using a different threshold for binary mask\n",
    "### 4. the function below allows adjustable thresholding during preprocessing"
   ]
  },
  {
   "cell_type": "code",
   "execution_count": 68,
   "metadata": {},
   "outputs": [],
   "source": [
    "for filename in glob.glob('data/preprocessed_img_that_remains/*.jpg'):\n",
    "    mask = np.array(Image.open('data/masks_0_255/'+filename[35:]))\n",
    "    cv2.imwrite('data/masks_0_255_that_remains/'+filename[35:], mask)"
   ]
  },
  {
   "cell_type": "code",
   "execution_count": 79,
   "metadata": {},
   "outputs": [],
   "source": [
    "def get_segmented_lungs_with_adjustable_binary(im, binary_threshold, plot=False):\n",
    "    \n",
    "    '''\n",
    "    This funtion segments the lungs from the given 2D slice.\n",
    "    '''\n",
    "    if plot == True:\n",
    "        f, plots = plt.subplots(8, 1, figsize=(5, 40))\n",
    "    '''\n",
    "    Step 1: Convert into a binary image. \n",
    "    '''\n",
    "    binary = im < binary_threshold\n",
    "    if plot == True:\n",
    "        plots[0].axis('off')\n",
    "        plots[0].imshow(binary, cmap=plt.cm.bone) \n",
    "    '''\n",
    "    Step 2: Remove the blobs connected to the border of the image.\n",
    "    '''\n",
    "    cleared = clear_border(binary)\n",
    "    if plot == True:\n",
    "        plots[1].axis('off')\n",
    "        plots[1].imshow(cleared, cmap=plt.cm.bone) \n",
    "    '''\n",
    "    Step 3: Label the image.\n",
    "    '''\n",
    "    label_image = label(cleared)\n",
    "    if plot == True:\n",
    "        plots[2].axis('off')\n",
    "        plots[2].imshow(label_image, cmap=plt.cm.bone) \n",
    "    '''\n",
    "    Step 4: Keep the labels with 2 largest areas.\n",
    "    '''\n",
    "    areas = [r.area for r in regionprops(label_image)]\n",
    "    areas.sort()\n",
    "    if len(areas) > 2:\n",
    "        for region in regionprops(label_image):\n",
    "            if region.area < areas[-2]:\n",
    "                for coordinates in region.coords:                \n",
    "                       label_image[coordinates[0], coordinates[1]] = 0\n",
    "    binary = label_image > 0\n",
    "    if plot == True:\n",
    "        plots[3].axis('off')\n",
    "        plots[3].imshow(binary, cmap=plt.cm.bone) \n",
    "    '''\n",
    "    Step 5: Erosion operation with a disk of radius 2. This operation is \n",
    "    seperate the lung nodules attached to the blood vessels.\n",
    "    '''\n",
    "    selem = disk(2)\n",
    "    binary = binary_erosion(binary, selem)\n",
    "    if plot == True:\n",
    "        plots[4].axis('off')\n",
    "        plots[4].imshow(binary, cmap=plt.cm.bone) \n",
    "    '''\n",
    "    Step 6: Closure operation with a disk of radius 10. This operation is \n",
    "    to keep nodules attached to the lung wall.\n",
    "    '''\n",
    "    selem = disk(10)\n",
    "    binary = binary_closing(binary, selem)\n",
    "    if plot == True:\n",
    "        plots[5].axis('off')\n",
    "        plots[5].imshow(binary, cmap=plt.cm.bone) \n",
    "    '''\n",
    "    Step 7: Fill in the small holes inside the binary mask of lungs.\n",
    "    '''\n",
    "    edges = roberts(binary)\n",
    "    binary = ndi.binary_fill_holes(edges)\n",
    "    if plot == True:\n",
    "        plots[6].axis('off')\n",
    "        plots[6].imshow(binary, cmap=plt.cm.bone) \n",
    "    '''\n",
    "    Step 8: Superimpose the binary mask on the input image.\n",
    "    '''\n",
    "    get_high_vals = binary == 0\n",
    "    im[get_high_vals] = 0\n",
    "    if plot == True:\n",
    "        plots[7].axis('off')\n",
    "        plots[7].imshow(im, cmap=plt.cm.bone) \n",
    "        \n",
    "    return im"
   ]
  },
  {
   "cell_type": "code",
   "execution_count": 96,
   "metadata": {
    "scrolled": true
   },
   "outputs": [
    {
     "data": {
      "image/png": "[encoded data removed]",
      "text/plain": [
       "<Figure size 360x2880 with 8 Axes>"
      ]
     },
     "metadata": {
      "needs_background": "light"
     },
     "output_type": "display_data"
    }
   ],
   "source": [
    "im_1 = np.array(Image.open(glob.glob('data/imgs-3-channel/*.jpg')[11]))[:,:,0]\n",
    "img_1_preprocessed = get_segmented_lungs_with_adjustable_binary(im_1, 75, plot=True)"
   ]
  },
  {
   "cell_type": "code",
   "execution_count": null,
   "metadata": {},
   "outputs": [],
   "source": []
  },
  {
   "cell_type": "code",
   "execution_count": null,
   "metadata": {},
   "outputs": [],
   "source": []
  },
  {
   "cell_type": "code",
   "execution_count": null,
   "metadata": {},
   "outputs": [],
   "source": []
  },
  {
   "cell_type": "code",
   "execution_count": null,
   "metadata": {},
   "outputs": [],
   "source": []
  },
  {
   "cell_type": "markdown",
   "metadata": {},
   "source": [
    "### The cell below tests for a threshold that gives a binary mask with clear border of lungs\n",
    "### The threshold varies depending on lighter/darker background"
   ]
  },
  {
   "cell_type": "code",
   "execution_count": 22,
   "metadata": {},
   "outputs": [
    {
     "data": {
      "text/plain": [
       "<matplotlib.image.AxesImage at 0x7f2d683acbe0>"
      ]
     },
     "execution_count": 22,
     "metadata": {},
     "output_type": "execute_result"
    },
    {
     "data": {
      "image/png": "[encoded data removed]",
      "text/plain": [
       "<Figure size 360x2880 with 1 Axes>"
      ]
     },
     "metadata": {
      "needs_background": "light"
     },
     "output_type": "display_data"
    }
   ],
   "source": [
    "binary = tmp_img[:,:,0] < 151\n",
    "f, plots = plt.subplots(1, 1, figsize=(5, 40))\n",
    "plots.imshow(binary, cmap=plt.cm.bone) "
   ]
  },
  {
   "cell_type": "code",
   "execution_count": null,
   "metadata": {},
   "outputs": [],
   "source": []
  },
  {
   "cell_type": "code",
   "execution_count": null,
   "metadata": {},
   "outputs": [],
   "source": []
  },
  {
   "cell_type": "code",
   "execution_count": null,
   "metadata": {},
   "outputs": [],
   "source": []
  }
 ],
 "metadata": {
  "kernelspec": {
   "display_name": "Python 3",
   "language": "python",
   "name": "python3"
  },
  "language_info": {
   "codemirror_mode": {
    "name": "ipython",
    "version": 3
   },
   "file_extension": ".py",
   "mimetype": "text/x-python",
   "name": "python",
   "nbconvert_exporter": "python",
   "pygments_lexer": "ipython3",
   "version": "3.6.8"
  }
 },
 "nbformat": 4,
 "nbformat_minor": 2
}
